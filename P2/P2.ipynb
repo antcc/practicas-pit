{
  "nbformat": 4,
  "nbformat_minor": 0,
  "metadata": {
    "colab": {
      "name": "[PIT] P2.ipynb",
      "provenance": [],
      "collapsed_sections": []
    },
    "kernelspec": {
      "name": "python3",
      "display_name": "Python 3"
    },
    "language_info": {
      "name": "python"
    },
    "accelerator": "GPU"
  },
  "cells": [
    {
      "cell_type": "markdown",
      "metadata": {
        "id": "qncY3FktdgMI"
      },
      "source": [
        "# PIT - Práctica 2: Detección de Actividad de Voz (II)\n",
        "\n",
        "**Alicia Lozano Díez**\n",
        " \n",
        "29 de abril de 2021\n"
      ]
    },
    {
      "cell_type": "markdown",
      "metadata": {
        "id": "V6yNO58J-7my"
      },
      "source": [
        "## Objetivo\n",
        "\n",
        "El objetivo de esta práctica es explorar la configuración del detector de actividad de voz (VAD) basado en redes neuronales recurrentes (LSTM) de la práctica anterior y realizar una evaluación del rendimiento sobre un conjunto de validación separado del de entrenamiento. Además, se ampliará la arquitectura de dicho modelo con redes convolucionales para procesar directamente la señal _raw_ en lugar de las características MFCC.\n",
        "\n",
        "### Materiales\n",
        "\n",
        "- Guión y código (.ipynb) de la práctica - Moodle\n",
        "- Datos y etiquetas de validación * - One Drive (https://dauam-my.sharepoint.com/:u:/g/personal/alicia_lozano_uam_es/EWBjWyX774pLhJc2ahr4zk0BtLvWt7YGhdMDDmGu-LcBNQ?e=sbgtjF)\n",
        "- Lista de validación y script de descarga de datos - Moodle\n",
        "- Artículo: https://repositorio.uam.es/bitstream/handle/10486/675731/feature_zazo_INTERSPEECH_2016.PDF?sequence=1&isAllowed=y\n",
        "\n",
        "**CUIDADO: * Los datos proporcionados son de uso exclusivo para esta práctica. No tiene permiso para copiar, distribuir o utilizar el corpus para ningún otro propósito.** \n",
        "\n"
      ]
    },
    {
      "cell_type": "code",
      "metadata": {
        "id": "uhmTzoJ7qPLa"
      },
      "source": [
        "import numpy as np\n",
        "import matplotlib.pyplot as plt\n",
        "import scipy.io\n",
        "import os\n",
        "import librosa\n",
        "\n",
        "import torch\n",
        "import torch.nn as nn\n",
        "import torch.nn.functional as F\n",
        "from torch import optim"
      ],
      "execution_count": null,
      "outputs": []
    },
    {
      "cell_type": "code",
      "metadata": {
        "id": "SB8wcxZxVS9g",
        "colab": {
          "base_uri": "https://localhost:8080/"
        },
        "outputId": "c23d3153-ea55-467f-fc93-d44d6f986e34"
      },
      "source": [
        "download = True\n",
        "DIR = \"/content/drive/My Drive/pit/\"\n",
        "if download and not os.path.isdir(\"data\"):\n",
        "    #from google.colab import drive\n",
        "    #drive.mount(\"/content/drive\", force_remount = True)\n",
        "    %cd \"$DIR\"\n",
        "    !cp *.lst /content/\n",
        "    !cp audio_sample_test.wav /content/\n",
        "    !cp audio_sample_test.mat /content/\n",
        "    !cp *.sh /content\n",
        "    %cd /content\n",
        "    !chmod 755 *.sh\n",
        "    !./data_download_onedrive_training_VAD.sh\n",
        "    !./data_download_onedrive_valid_VAD.sh"
      ],
      "execution_count": null,
      "outputs": [
        {
          "output_type": "stream",
          "text": [
            "/content/drive/My Drive/pit\n",
            "/content\n",
            "--2021-05-06 10:44:21--  https://dauam-my.sharepoint.com/:u:/g/personal/alicia_lozano_uam_es/EdCueYU7BpNAuo6BawH8hJAB5rclap745BmsPzXgSPhsgw?download=1\n",
            "Resolving dauam-my.sharepoint.com (dauam-my.sharepoint.com)... 13.107.136.9\n",
            "Connecting to dauam-my.sharepoint.com (dauam-my.sharepoint.com)|13.107.136.9|:443... connected.\n",
            "HTTP request sent, awaiting response... 302 Found\n",
            "Location: /personal/alicia_lozano_uam_es/Documents/PIT/training_VAD.zip?originalPath=aHR0cHM6Ly9kYXVhbS1teS5zaGFyZXBvaW50LmNvbS86dTovZy9wZXJzb25hbC9hbGljaWFfbG96YW5vX3VhbV9lcy9FZEN1ZVlVN0JwTkF1bzZCYXdIOGhKQUI1cmNsYXA3NDVCbXNQelhnU1Boc2d3P3J0aW1lPVNZS1o2SHNRMlVn [following]\n",
            "--2021-05-06 10:44:21--  https://dauam-my.sharepoint.com/personal/alicia_lozano_uam_es/Documents/PIT/training_VAD.zip?originalPath=aHR0cHM6Ly9kYXVhbS1teS5zaGFyZXBvaW50LmNvbS86dTovZy9wZXJzb25hbC9hbGljaWFfbG96YW5vX3VhbV9lcy9FZEN1ZVlVN0JwTkF1bzZCYXdIOGhKQUI1cmNsYXA3NDVCbXNQelhnU1Boc2d3P3J0aW1lPVNZS1o2SHNRMlVn\n",
            "Reusing existing connection to dauam-my.sharepoint.com:443.\n",
            "HTTP request sent, awaiting response... 200 OK\n",
            "Length: 3638232935 (3.4G) [application/x-zip-compressed]\n",
            "Saving to: ‘EdCueYU7BpNAuo6BawH8hJAB5rclap745BmsPzXgSPhsgw?download=1’\n",
            "\n",
            "EdCueYU7BpNAuo6BawH  99%[==================> ]   3.38G  48.1MB/s    in 61s     \n",
            "\n",
            "2021-05-06 10:45:23 (56.9 MB/s) - Read error at byte 3625132095/3638232935 (Connection reset by peer). Retrying.\n",
            "\n",
            "--2021-05-06 10:45:24--  (try: 2)  https://dauam-my.sharepoint.com/personal/alicia_lozano_uam_es/Documents/PIT/training_VAD.zip?originalPath=aHR0cHM6Ly9kYXVhbS1teS5zaGFyZXBvaW50LmNvbS86dTovZy9wZXJzb25hbC9hbGljaWFfbG96YW5vX3VhbV9lcy9FZEN1ZVlVN0JwTkF1bzZCYXdIOGhKQUI1cmNsYXA3NDVCbXNQelhnU1Boc2d3P3J0aW1lPVNZS1o2SHNRMlVn\n",
            "Connecting to dauam-my.sharepoint.com (dauam-my.sharepoint.com)|13.107.136.9|:443... connected.\n",
            "HTTP request sent, awaiting response... 206 PARTIAL CONTENT\n",
            "Length: 3638232935 (3.4G), 13100840 (12M) remaining [application/x-zip-compressed]\n",
            "Saving to: ‘EdCueYU7BpNAuo6BawH8hJAB5rclap745BmsPzXgSPhsgw?download=1’\n",
            "\n",
            "EdCueYU7BpNAuo6BawH 100%[+++++++++++++++++++>]   3.39G  17.2MB/s    in 0.7s    \n",
            "\n",
            "2021-05-06 10:45:25 (17.2 MB/s) - ‘EdCueYU7BpNAuo6BawH8hJAB5rclap745BmsPzXgSPhsgw?download=1’ saved [3638232935/3638232935]\n",
            "\n",
            "mkdir: cannot create directory ‘./data’: File exists\n",
            "--2021-05-06 10:47:01--  https://dauam-my.sharepoint.com/:u:/g/personal/alicia_lozano_uam_es/EWBjWyX774pLhJc2ahr4zk0BtLvWt7YGhdMDDmGu-LcBNQ?download=1\n",
            "Resolving dauam-my.sharepoint.com (dauam-my.sharepoint.com)... 13.107.136.9\n",
            "Connecting to dauam-my.sharepoint.com (dauam-my.sharepoint.com)|13.107.136.9|:443... connected.\n",
            "HTTP request sent, awaiting response... 302 Found\n",
            "Location: /personal/alicia_lozano_uam_es/Documents/PIT/valid_VAD.zip?originalPath=aHR0cHM6Ly9kYXVhbS1teS5zaGFyZXBvaW50LmNvbS86dTovZy9wZXJzb25hbC9hbGljaWFfbG96YW5vX3VhbV9lcy9FV0JqV3lYNzc0cExoSmMyYWhyNHprMEJ0THZXdDdZR2hkTUREbUd1LUxjQk5RP3J0aW1lPXVPWFVSM3dRMlVn [following]\n",
            "--2021-05-06 10:47:01--  https://dauam-my.sharepoint.com/personal/alicia_lozano_uam_es/Documents/PIT/valid_VAD.zip?originalPath=aHR0cHM6Ly9kYXVhbS1teS5zaGFyZXBvaW50LmNvbS86dTovZy9wZXJzb25hbC9hbGljaWFfbG96YW5vX3VhbV9lcy9FV0JqV3lYNzc0cExoSmMyYWhyNHprMEJ0THZXdDdZR2hkTUREbUd1LUxjQk5RP3J0aW1lPXVPWFVSM3dRMlVn\n",
            "Reusing existing connection to dauam-my.sharepoint.com:443.\n",
            "HTTP request sent, awaiting response... 200 OK\n",
            "Length: 508492067 (485M) [application/x-zip-compressed]\n",
            "Saving to: ‘EWBjWyX774pLhJc2ahr4zk0BtLvWt7YGhdMDDmGu-LcBNQ?download=1’\n",
            "\n",
            "EWBjWyX774pLhJc2ahr 100%[===================>] 484.94M  70.9MB/s    in 7.3s    \n",
            "\n",
            "2021-05-06 10:47:09 (66.7 MB/s) - ‘EWBjWyX774pLhJc2ahr4zk0BtLvWt7YGhdMDDmGu-LcBNQ?download=1’ saved [508492067/508492067]\n",
            "\n"
          ],
          "name": "stdout"
        }
      ]
    },
    {
      "cell_type": "markdown",
      "metadata": {
        "id": "64IMtv3LPTIX"
      },
      "source": [
        "# 1. Modificando la configuración y arquitectura del VAD basado en LSTM\n",
        "\n",
        "## 1.1. Preparación de datos\n",
        "\n",
        "### Carga de datos de entrenamiento y validación\n",
        "\n",
        "Como en la práctica anterior, necesitaremos descargar la lista de identificadores de los datos de entrenamiento (fichero **training_VAD.lst** de Moodle, se encuentra en los materiales de la práctica 1):"
      ]
    },
    {
      "cell_type": "code",
      "metadata": {
        "id": "xkVlqwW8p0dw"
      },
      "source": [
        "file_train_list = 'training_VAD.lst' # mat files containing data + labels\n",
        "f = open(file_train_list, 'r')\n",
        "train_list = f.read().splitlines()\n",
        "TRAIN_PATH = 'data/training_VAD/'\n",
        "f.close()"
      ],
      "execution_count": null,
      "outputs": []
    },
    {
      "cell_type": "markdown",
      "metadata": {
        "id": "GFk0LHS9WPsu"
      },
      "source": [
        "Para este conjunto de datos, descargaremos la lista de identificadores **valid_VAD.lst** de Moodle, dentro de los materiales de la práctica 2, así como el fichero de descarga de datos **data_download_onedrive_valid_VAD.sh**:"
      ]
    },
    {
      "cell_type": "code",
      "metadata": {
        "id": "M5CgfdcSpzy0"
      },
      "source": [
        "file_valid_list = 'valid_VAD.lst' # mat files containing data + labels\n",
        "f = open(file_valid_list, 'r')\n",
        "valid_list = f.read().splitlines()\n",
        "VALID_PATH = 'data/valid_VAD/'\n",
        "f.close()"
      ],
      "execution_count": null,
      "outputs": []
    },
    {
      "cell_type": "markdown",
      "metadata": {
        "id": "xrsF0MmArEOx"
      },
      "source": [
        "### Extracción de características y etiquetas"
      ]
    },
    {
      "cell_type": "code",
      "metadata": {
        "id": "bb5J5A9ercOg"
      },
      "source": [
        "def get_feat(segment, rand_idx, n_features=20):\n",
        "    data = scipy.io.loadmat(segment)['X']\n",
        "    if data.shape[0] <= length_segments:\n",
        "        start_frame = 0\n",
        "    else:\n",
        "        start_frame = np.random.permutation(data.shape[0] - length_segments)[0]\n",
        "\n",
        "    end_frame = np.min((start_frame + length_segments, data.shape[0]))\n",
        "    rand_idx[segment] = start_frame\n",
        "    feat = data[start_frame:end_frame, :n_features] # discard D and DD, just 20 MFCCs\n",
        "    return feat[np.newaxis, :, :]   \n",
        "\n",
        "\n",
        "def get_lab(segment, rand_idx):\n",
        "    data = scipy.io.loadmat(segment)['Y']\n",
        "    start_frame = rand_idx[segment]\n",
        "    end_frame = np.min((start_frame + length_segments, data.shape[0]))\n",
        "    labs = data[start_frame:end_frame].flatten()\n",
        "    return labs[np.newaxis, :]"
      ],
      "execution_count": null,
      "outputs": []
    },
    {
      "cell_type": "markdown",
      "metadata": {
        "id": "pAZUfdfokdBJ"
      },
      "source": [
        "Establecemos que el formato de codificación de las etiquetas es el asociado a la salida de la sigmoide (sin one-hot encoding)."
      ]
    },
    {
      "cell_type": "code",
      "metadata": {
        "id": "C8ermmoskiVk"
      },
      "source": [
        "SOFTMAX_ENCODING = False"
      ],
      "execution_count": null,
      "outputs": []
    },
    {
      "cell_type": "markdown",
      "metadata": {
        "id": "UTwj-3NjSpJx"
      },
      "source": [
        "## 1.2. Validación (evaluación) del modelo de la práctica 1\n",
        "\n",
        "Utilizando las partes del código de la práctica anterior que sean necesarias, vamos a entrenarlo y evaluarlo en el conjunto de datos de validación para establecer dicho resultado como sistema de referencia para las posteriores modificaciones. \n",
        "\n",
        "La evaluación sobre el conjunto de validación la puede realizar sólo para la última época o para todas ellas. Tenga en cuenta que si quiere realizar el forward para todos los datos de validación de una vez, necesitará que todas las secuencias sean de la misma longitud. Como aproximación, puede escoger unos pocos segundos de cada fichero como se hace en el entrenamiento.\n",
        "\n"
      ]
    },
    {
      "cell_type": "markdown",
      "metadata": {
        "id": "lwKnhiGRqevd"
      },
      "source": [
        "### Definición del modelo"
      ]
    },
    {
      "cell_type": "code",
      "metadata": {
        "id": "191F-IKhqdZC"
      },
      "source": [
        "class Model_1(nn.Module):\n",
        "    def __init__(self, feat_dim=20):\n",
        "        super(Model_1, self).__init__()\n",
        "        self.lstm = nn.LSTM(feat_dim, 256, batch_first=True, bidirectional=False)\n",
        "        self.output = nn.Linear(256, 1)\n",
        "\n",
        "    def forward(self, x):\n",
        "        out = self.lstm(x)[0]\n",
        "        out = self.output(out)\n",
        "        out = torch.sigmoid(out)\n",
        "        return out.squeeze(-1)"
      ],
      "execution_count": null,
      "outputs": []
    },
    {
      "cell_type": "code",
      "metadata": {
        "id": "XUsIAyWPT93w",
        "colab": {
          "base_uri": "https://localhost:8080/"
        },
        "outputId": "219ec08a-f1de-42ae-fd37-d5b0e3eda0f6"
      },
      "source": [
        "model = Model_1()\n",
        "device = torch.device(\"cuda\")\n",
        "model = model.to(device)\n",
        "print(model)"
      ],
      "execution_count": null,
      "outputs": [
        {
          "output_type": "stream",
          "text": [
            "Model_1(\n",
            "  (lstm): LSTM(20, 256, batch_first=True)\n",
            "  (output): Linear(in_features=256, out_features=1, bias=True)\n",
            ")\n"
          ],
          "name": "stdout"
        }
      ]
    },
    {
      "cell_type": "markdown",
      "metadata": {
        "id": "rmNhMtYirzCQ"
      },
      "source": [
        "### Funciones de entrenamiento y validación"
      ]
    },
    {
      "cell_type": "code",
      "metadata": {
        "id": "YKpsKAPo0jYj"
      },
      "source": [
        "from keras.utils.np_utils import to_categorical \n",
        "\n",
        "def train_for_epoch(segment_sets, n_features):\n",
        "    model.train()\n",
        "    cache_loss = 0.0\n",
        "    cache_acc = 0.0\n",
        "    n_elems = 0\n",
        "\n",
        "    # Loop through batches\n",
        "    for segment_set in segment_sets:\n",
        "        rand_idx = {}\n",
        "        optimizer.zero_grad()\n",
        "\n",
        "        # Create training batches\n",
        "        feats_batch = np.vstack(\n",
        "            [get_feat(TRAIN_PATH + segment, rand_idx, n_features) \n",
        "             for segment in segment_set])\n",
        "        if SOFTMAX_ENCODING:\n",
        "            labs_batch = np.vstack(\n",
        "                [to_categorical(\n",
        "                    get_lab(TRAIN_PATH + segment, rand_idx), \n",
        "                    num_classes=2).astype(np.int16) \n",
        "                 for segment in segment_set])\n",
        "        else:\n",
        "            labs_batch = np.vstack(\n",
        "                [get_lab(TRAIN_PATH + segment, rand_idx).astype(np.int16) \n",
        "                 for segment in segment_set])\n",
        "            \n",
        "        # Shuffle the data and place them into Pytorch tensors\n",
        "        shuffle = np.random.permutation(len(labs_batch))\n",
        "        labs_batch = torch.tensor(\n",
        "            labs_batch.take(shuffle, axis=0).astype(\"float32\")).to(device)\n",
        "        feats_batch = torch.tensor(\n",
        "            feats_batch.take(shuffle, axis=0).astype(\"float32\")).to(device)\n",
        "\n",
        "        # Forward the data through the network\n",
        "        predictions = model(feats_batch)\n",
        "\n",
        "        # Compute cost\n",
        "        loss = criterion(predictions, labs_batch)\n",
        "\n",
        "        # Backward step\n",
        "        loss.backward()\n",
        "        optimizer.step()\n",
        "\n",
        "        # Save stats\n",
        "        cache_loss += loss.item()\n",
        "        if SOFTMAX_ENCODING:\n",
        "            cache_acc += (torch.eq(\n",
        "            torch.argmax(predictions, dim=2), \n",
        "            torch.argmax(labs_batch, dim=2))).sum()\n",
        "        else:\n",
        "            cache_acc += (torch.eq(predictions >= 0.5, labs_batch)).sum()\n",
        "        n_elems += np.prod(predictions.shape[:2])\n",
        "\n",
        "    epoch_loss = cache_loss/len(segment_sets)\n",
        "    epoch_acc = cache_acc/n_elems\n",
        "    \n",
        "    return epoch_loss, epoch_acc.cpu() \n",
        "\n",
        "def validate(segment_sets, n_features):\n",
        "    model.eval()\n",
        "    cache_loss = 0.0\n",
        "    cache_acc = 0.0\n",
        "    n_elems = 0\n",
        "\n",
        "    # We don't need gradients for validation\n",
        "    with torch.no_grad():\n",
        "        # Loop through batches\n",
        "        for segment_set in segment_sets:\n",
        "            rand_idx = {}\n",
        "\n",
        "            # Create validation batches\n",
        "            feats_batch = np.vstack(\n",
        "                [get_feat(VALID_PATH + segment, rand_idx, n_features) \n",
        "                for segment in segment_set])\n",
        "            if SOFTMAX_ENCODING:\n",
        "                labs_batch = np.vstack(\n",
        "                    [to_categorical(\n",
        "                        get_lab(VALID_PATH + segment, rand_idx), \n",
        "                        num_classes=2).astype(np.int16) \n",
        "                    for segment in segment_set])\n",
        "            else:\n",
        "                labs_batch = np.vstack(\n",
        "                    [get_lab(VALID_PATH + segment, rand_idx).astype(np.int16) \n",
        "                    for segment in segment_set])\n",
        "\n",
        "            # Place data into Pytorch tensors (no shuffle!)\n",
        "            labs_batch = torch.tensor(labs_batch.astype(\"float32\")).to(device)\n",
        "            feats_batch = torch.tensor(feats_batch.astype(\"float32\")).to(device)\n",
        "\n",
        "            # Forward the data through the network\n",
        "            predictions = model(feats_batch)\n",
        "\n",
        "            # Compute cost\n",
        "            loss = criterion(predictions, labs_batch)\n",
        "\n",
        "            # Save stats\n",
        "            cache_loss += loss.item()\n",
        "            if SOFTMAX_ENCODING:\n",
        "                cache_acc += (torch.eq(\n",
        "                torch.argmax(predictions, dim=2), \n",
        "                torch.argmax(labs_batch, dim=2))).sum()\n",
        "            else:\n",
        "                cache_acc += (torch.eq(predictions >= 0.5, labs_batch)).sum()\n",
        "            n_elems += np.prod(predictions.shape[:2])\n",
        "\n",
        "        epoch_loss = cache_loss/len(segment_sets)\n",
        "        epoch_acc = cache_acc/n_elems\n",
        "\n",
        "    return epoch_loss, epoch_acc.cpu()\n",
        "\n",
        "\n",
        "def train(first_epoch, num_epochs, n_features=20):\n",
        "    train_losses, valid_losses, train_accs, valid_accs = [], [], [], []\n",
        "\n",
        "    for epoch in range(first_epoch, first_epoch + num_epochs):\n",
        "        # Training phase\n",
        "        train_loss, train_acc = train_for_epoch(train_segments, n_features)\n",
        "\n",
        "        # Validation phase\n",
        "        valid_loss, valid_acc = validate(valid_segments, n_features)\n",
        "\n",
        "        print(f'[{epoch:02d}] train loss: {train_loss:03f}  '\n",
        "              f'val loss: {valid_loss:03f}  '\n",
        "              f'train acc: {train_acc*100:.3f}%  '\n",
        "              f'val acc: {valid_acc*100:.3f}%')\n",
        "\n",
        "        train_losses.append(train_loss)\n",
        "        valid_losses.append(valid_loss)\n",
        "        train_accs.append(train_acc)\n",
        "        valid_accs.append(valid_acc)\n",
        "\n",
        "    return train_losses, valid_losses, train_accs, valid_accs"
      ],
      "execution_count": null,
      "outputs": []
    },
    {
      "cell_type": "code",
      "metadata": {
        "id": "TRymNP749wsi"
      },
      "source": [
        "def plot_learning_curves(train_losses, valid_losses, \n",
        "                         train_accs, valid_accs, crop=False):\n",
        "    epochs = range(1, len(train_losses) + 1)\n",
        "\n",
        "    fig, axs = plt.subplots(1, 2, figsize=(12, 4))\n",
        "\n",
        "    axs[0].plot(epochs, train_losses, '-o')\n",
        "    axs[0].plot(epochs, valid_losses, '-o')\n",
        "    train = axs[1].plot(epochs, train_accs, '-o', label=\"Train\")\n",
        "    valid = axs[1].plot(epochs, valid_accs, '-o', label=\"Valid\")\n",
        "\n",
        "    axs[0].set_title('Learning curves')\n",
        "    axs[0].set_xlabel('Epoch')\n",
        "    axs[0].set_ylabel('Loss')\n",
        "    axs[0].set_xticks(epochs)\n",
        "    if crop:\n",
        "        axs[0].set_ylim(0, 5)\n",
        "\n",
        "    axs[1].legend(bbox_to_anchor=(1.025, 1), loc='upper left')\n",
        "    axs[1].set_title('Accuracy evolution')\n",
        "    axs[1].set_xlabel('Epoch')\n",
        "    axs[1].set_ylabel('Acc')\n",
        "    axs[1].set_xticks(epochs)\n",
        "\n",
        "    plt.show()"
      ],
      "execution_count": null,
      "outputs": []
    },
    {
      "cell_type": "code",
      "metadata": {
        "id": "wZi89hqNefvf"
      },
      "source": [
        "train_batch_size = 51\n",
        "train_segments = np.array_split(\n",
        "    train_list, len(train_list)/train_batch_size)\n",
        "\n",
        "valid_batch_size = 72\n",
        "valid_segments = np.array_split(\n",
        "    valid_list, len(valid_list)/valid_batch_size)"
      ],
      "execution_count": null,
      "outputs": []
    },
    {
      "cell_type": "markdown",
      "metadata": {
        "id": "-19YUUXU0_f9"
      },
      "source": [
        "### Entrenar y validar con secuencias de 3 segundos"
      ]
    },
    {
      "cell_type": "code",
      "metadata": {
        "id": "0h22xdURr9Ck"
      },
      "source": [
        "criterion = nn.BCELoss()\n",
        "optimizer = optim.Adam(model.parameters(), lr=0.001)\n",
        "length_segments = 300 \n",
        "epochs = 4"
      ],
      "execution_count": null,
      "outputs": []
    },
    {
      "cell_type": "code",
      "metadata": {
        "colab": {
          "base_uri": "https://localhost:8080/"
        },
        "id": "pofttSZnr1-c",
        "outputId": "5c6f72e7-7dc1-4759-9061-1fded7a13979"
      },
      "source": [
        "train_losses, valid_losses, train_accs, valid_accs = train(1, epochs)"
      ],
      "execution_count": null,
      "outputs": [
        {
          "output_type": "stream",
          "text": [
            "[01] train loss: 0.611144  val loss: 0.504300  train acc: 70.278%  val acc: 79.366%\n",
            "[02] train loss: 0.453588  val loss: 0.368693  train acc: 80.167%  val acc: 83.486%\n",
            "[03] train loss: 0.346493  val loss: 0.315954  train acc: 85.300%  val acc: 85.644%\n",
            "[04] train loss: 0.295835  val loss: 0.287246  train acc: 88.701%  val acc: 88.310%\n"
          ],
          "name": "stdout"
        }
      ]
    },
    {
      "cell_type": "code",
      "metadata": {
        "colab": {
          "base_uri": "https://localhost:8080/",
          "height": 295
        },
        "id": "p2AKwimK9-dB",
        "outputId": "483c365b-9297-4902-d66e-5325d6457d68"
      },
      "source": [
        "plot_learning_curves(train_losses, valid_losses, train_accs, valid_accs)"
      ],
      "execution_count": null,
      "outputs": [
        {
          "output_type": "display_data",
          "data": {
            "image/png": "[encoded data removed]",
            "text/plain": [
              "<Figure size 864x288 with 2 Axes>"
            ]
          },
          "metadata": {
            "tags": [],
            "needs_background": "light"
          }
        }
      ]
    },
    {
      "cell_type": "markdown",
      "metadata": {
        "id": "3-pK445hTOvq"
      },
      "source": [
        "**PREGUNTAS:**\n",
        "- Incluya en la memoria de la práctica el código utilizado, incluyendo los valores de cualquier parámetro de configuración utilizado (por ejemplo, el número de épocas de entrenamiento realizadas).\n",
        "- ¿Qué rendimiento (loss y accuracy) obtiene con este modelo (_Model_1_) en entrenamiento y en validación? \n"
      ]
    },
    {
      "cell_type": "markdown",
      "metadata": {
        "id": "SF9Gf0OjkSgJ"
      },
      "source": [
        "## 1.3. Modificación de la longitud de la secuencia\n",
        "\n",
        "En este apartado vamos a analizar la influencia de la longitud de la secuencia de datos utilizada para el entrenamiento del modelo. \n",
        "\n",
        "En la práctica anterior, las secuencias de entrenamiento que utilizábamos tenían longitud 300 frames, equivalentes a aproximadamente 3 segundos. \n",
        "\n",
        "Repita el entrenamiento para secuencias de 1 segundo y 30 segundos. Tenga en cuenta que tal y como está diseñado el código de la práctica anterior, se escogen fragmentos de los audios de dicha longitud al generar los _batches_ y por tanto, variar la longitud de la secuencia, modifica a su vez la cantidad total de audio utilizada para el entrenamiento si mantenemos el número de iteraciones (épocas) con un valor fijo. Modifique el código como corresponda para compensar esto en la medida de lo posible."
      ]
    },
    {
      "cell_type": "markdown",
      "metadata": {
        "id": "pCVRZpdA7Z8P"
      },
      "source": [
        "### Entrenar y validar con secuencias de 1 segundo\n",
        "\n",
        "Si 300 frames eran 3 segundos, 100 frames serán 1 segundo (aproximadamente). La cantidad total de frames de audio que considerábamos antes era:\n",
        "\n",
        "$$\n",
        "4 \\text{ épocas} \\cdot 510 \\text{ ficheros} \\cdot 300 \\text{ frames} = 612000 \\text{ frames} \n",
        "$$\n",
        "\n",
        "Para compensar por usar secuencias 3 veces más pequeñas, multiplicamos el número de épocas por 3."
      ]
    },
    {
      "cell_type": "code",
      "metadata": {
        "id": "-z_pd4VH-iKF"
      },
      "source": [
        "model = Model_1()\n",
        "device = torch.device(\"cuda\")\n",
        "model = model.to(device)"
      ],
      "execution_count": null,
      "outputs": []
    },
    {
      "cell_type": "code",
      "metadata": {
        "id": "KYXf5kVpc-px"
      },
      "source": [
        "criterion = nn.BCELoss()\n",
        "optimizer = optim.Adam(model.parameters(), lr=0.001)\n",
        "length_segments = 100 \n",
        "epochs = 12"
      ],
      "execution_count": null,
      "outputs": []
    },
    {
      "cell_type": "code",
      "metadata": {
        "colab": {
          "base_uri": "https://localhost:8080/"
        },
        "id": "-pBISo1D7Y2I",
        "outputId": "1a7a726b-b60d-4553-a5d9-a1ea7107e833"
      },
      "source": [
        "train_losses, valid_losses, train_accs, valid_accs = train(1, epochs)"
      ],
      "execution_count": null,
      "outputs": [
        {
          "output_type": "stream",
          "text": [
            "[01] train loss: 0.615211  val loss: 0.554616  train acc: 69.943%  val acc: 77.306%\n",
            "[02] train loss: 0.494741  val loss: 0.450250  train acc: 78.447%  val acc: 78.819%\n",
            "[03] train loss: 0.392111  val loss: 0.294333  train acc: 83.214%  val acc: 88.181%\n",
            "[04] train loss: 0.327881  val loss: 0.330060  train acc: 86.841%  val acc: 85.236%\n",
            "[05] train loss: 0.350741  val loss: 0.292323  train acc: 85.935%  val acc: 86.833%\n",
            "[06] train loss: 0.343749  val loss: 0.366775  train acc: 85.235%  val acc: 84.292%\n",
            "[07] train loss: 0.311317  val loss: 0.317446  train acc: 87.690%  val acc: 88.306%\n",
            "[08] train loss: 0.306600  val loss: 0.204590  train acc: 87.500%  val acc: 91.847%\n",
            "[09] train loss: 0.298177  val loss: 0.292616  train acc: 87.588%  val acc: 88.403%\n",
            "[10] train loss: 0.293822  val loss: 0.201000  train acc: 87.955%  val acc: 92.514%\n",
            "[11] train loss: 0.279092  val loss: 0.221574  train acc: 88.861%  val acc: 91.750%\n",
            "[12] train loss: 0.251372  val loss: 0.306742  train acc: 90.314%  val acc: 86.889%\n"
          ],
          "name": "stdout"
        }
      ]
    },
    {
      "cell_type": "code",
      "metadata": {
        "colab": {
          "base_uri": "https://localhost:8080/",
          "height": 295
        },
        "id": "CJ9Lba4z8vqd",
        "outputId": "d16cacc2-7867-4bee-932f-97114962f55f"
      },
      "source": [
        "plot_learning_curves(train_losses, valid_losses, train_accs, valid_accs)"
      ],
      "execution_count": null,
      "outputs": [
        {
          "output_type": "display_data",
          "data": {
            "image/png": "[encoded data removed]",
            "text/plain": [
              "<Figure size 864x288 with 2 Axes>"
            ]
          },
          "metadata": {
            "tags": [],
            "needs_background": "light"
          }
        }
      ]
    },
    {
      "cell_type": "markdown",
      "metadata": {
        "id": "X7RbHVjd8WIL"
      },
      "source": [
        "### Entrenar y validar con secuencias de 30 segundos\n",
        "\n",
        "En este caso estaríamos considerando 10 veces más frames por secuencia, es decir, 3000 frames. Para compensar deberíamos dividir el número de épocas por 10, es decir, hacer solo $0.4$ épocas. La aproximación más cercana es hacer una única época. Además, fijamos el batch_size a 1 para permitir secuencias de distinta longitud, pues hay audios con menos de 30 segundos."
      ]
    },
    {
      "cell_type": "code",
      "metadata": {
        "id": "QEiqI810-pcp"
      },
      "source": [
        "model = Model_1()\n",
        "device = torch.device(\"cuda\")\n",
        "model = model.to(device)"
      ],
      "execution_count": null,
      "outputs": []
    },
    {
      "cell_type": "code",
      "metadata": {
        "id": "qxDV63_7lAwS"
      },
      "source": [
        "train_batch_size = 1\n",
        "train_segments = np.array_split(\n",
        "    train_list, len(train_list)/train_batch_size)\n",
        "\n",
        "valid_batch_size = 1\n",
        "valid_segments = np.array_split(\n",
        "    valid_list, len(valid_list)/valid_batch_size)"
      ],
      "execution_count": null,
      "outputs": []
    },
    {
      "cell_type": "code",
      "metadata": {
        "id": "Oc36DT6D8l6v"
      },
      "source": [
        "criterion = nn.BCELoss()\n",
        "optimizer = optim.Adam(model.parameters(), lr=0.001)\n",
        "length_segments = 3000\n",
        "epochs = 1"
      ],
      "execution_count": null,
      "outputs": []
    },
    {
      "cell_type": "code",
      "metadata": {
        "id": "_nXbLrEQ8q_P",
        "colab": {
          "base_uri": "https://localhost:8080/"
        },
        "outputId": "eb782d1e-17f0-4274-fe80-1def9cebb0e2"
      },
      "source": [
        "train_losses, valid_losses, train_accs, valid_accs = train(1, epochs)"
      ],
      "execution_count": null,
      "outputs": [
        {
          "output_type": "stream",
          "text": [
            "[01] train loss: 0.275125  val loss: 0.215586  train acc: 88.714%  val acc: 91.264%\n"
          ],
          "name": "stdout"
        }
      ]
    },
    {
      "cell_type": "markdown",
      "metadata": {
        "id": "PMHT_eaomVjf"
      },
      "source": [
        "**PREGUNTAS**:\n",
        "- Describa brevemente cómo ha realizado la compensación de datos para poder comparar los modelos de una forma más justa.\n",
        "- ¿Qué rendimiento obtiene para la red entrenada con secuencias de 1 segundo de longitud sobre el conjunto de validación? ¿Y para la de 30 segundos? Comente brevemente los motivos por los que esto puede ocurrir. "
      ]
    },
    {
      "cell_type": "markdown",
      "metadata": {
        "id": "xNacK60hnI1C"
      },
      "source": [
        "## 1.4. Redes bidireccionales LSTM\n",
        "\n",
        "En este apartado, vamos a partir del modelo inicial (_Model_1_) y modificarlo para que la capa LSTM sea bidireccional (_Model_1B_). \n",
        "\n",
        "Entrénelo el nuevo modelo con secuencias de longitud 3 segundos y 1 segundo, y compare el resultado con el modelo inicial.\n"
      ]
    },
    {
      "cell_type": "markdown",
      "metadata": {
        "id": "fhJNlU2m9Eto"
      },
      "source": [
        "### Definición del nuevo modelo"
      ]
    },
    {
      "cell_type": "code",
      "metadata": {
        "id": "g_hDksqw9BcN"
      },
      "source": [
        "class Model_1B(nn.Module):\n",
        "    def __init__(self, feat_dim=20):\n",
        "        super(Model_1B, self).__init__()\n",
        "        self.lstm = nn.LSTM(feat_dim, 256, batch_first=True, bidirectional=True)\n",
        "        self.output = nn.Linear(2*256, 1)\n",
        "\n",
        "    def forward(self, x):\n",
        "        out = self.lstm(x)[0]\n",
        "        out = self.output(out)\n",
        "        out = torch.sigmoid(out)\n",
        "        return out.squeeze(-1)"
      ],
      "execution_count": null,
      "outputs": []
    },
    {
      "cell_type": "code",
      "metadata": {
        "id": "qvuU7q1-dGXo",
        "colab": {
          "base_uri": "https://localhost:8080/"
        },
        "outputId": "acb3dd11-0270-4de8-9c68-778be5a78b21"
      },
      "source": [
        "model = Model_1B()\n",
        "device = torch.device(\"cuda\")\n",
        "model = model.to(device)\n",
        "print(model)"
      ],
      "execution_count": null,
      "outputs": [
        {
          "output_type": "stream",
          "text": [
            "Model_1B(\n",
            "  (lstm): LSTM(20, 256, batch_first=True, bidirectional=True)\n",
            "  (output): Linear(in_features=512, out_features=1, bias=True)\n",
            ")\n"
          ],
          "name": "stdout"
        }
      ]
    },
    {
      "cell_type": "markdown",
      "metadata": {
        "id": "lHAD4DX89fTQ"
      },
      "source": [
        "### Entrenar y validar con secuencias de 3 segundos"
      ]
    },
    {
      "cell_type": "code",
      "metadata": {
        "id": "fNdsjXq-lIEj"
      },
      "source": [
        "train_batch_size = 51\n",
        "train_segments = np.array_split(\n",
        "    train_list, len(train_list)/train_batch_size)\n",
        "\n",
        "valid_batch_size = 72\n",
        "valid_segments = np.array_split(\n",
        "    valid_list, len(valid_list)/valid_batch_size)"
      ],
      "execution_count": null,
      "outputs": []
    },
    {
      "cell_type": "code",
      "metadata": {
        "id": "QZ_lWlv49l2H"
      },
      "source": [
        "criterion = nn.BCELoss()\n",
        "optimizer = optim.Adam(model.parameters(), lr=0.001)\n",
        "length_segments = 300\n",
        "epochs = 4"
      ],
      "execution_count": null,
      "outputs": []
    },
    {
      "cell_type": "code",
      "metadata": {
        "id": "bD2gt3fQ-7Cv",
        "colab": {
          "base_uri": "https://localhost:8080/"
        },
        "outputId": "7f7916de-3d6e-4180-8731-35a8b5361b5b"
      },
      "source": [
        "train_losses, valid_losses, train_accs, valid_accs = train(1, epochs)"
      ],
      "execution_count": null,
      "outputs": [
        {
          "output_type": "stream",
          "text": [
            "[01] train loss: 0.603703  val loss: 0.504520  train acc: 69.452%  val acc: 77.870%\n",
            "[02] train loss: 0.414362  val loss: 0.387368  train acc: 82.415%  val acc: 83.306%\n",
            "[03] train loss: 0.279627  val loss: 0.282866  train acc: 88.236%  val acc: 88.060%\n",
            "[04] train loss: 0.284049  val loss: 0.228113  train acc: 88.806%  val acc: 91.620%\n"
          ],
          "name": "stdout"
        }
      ]
    },
    {
      "cell_type": "code",
      "metadata": {
        "id": "BfqmI0Y4-8Wh",
        "colab": {
          "base_uri": "https://localhost:8080/",
          "height": 295
        },
        "outputId": "3eab16e7-535e-44e2-ba9a-21113edc2a0a"
      },
      "source": [
        "plot_learning_curves(train_losses, valid_losses, train_accs, valid_accs)"
      ],
      "execution_count": null,
      "outputs": [
        {
          "output_type": "display_data",
          "data": {
            "image/png": "[encoded data removed]",
            "text/plain": [
              "<Figure size 864x288 with 2 Axes>"
            ]
          },
          "metadata": {
            "tags": [],
            "needs_background": "light"
          }
        }
      ]
    },
    {
      "cell_type": "markdown",
      "metadata": {
        "id": "1wXo9imx9j1g"
      },
      "source": [
        "### Entrenar y validar con secuencias de 1 segundo"
      ]
    },
    {
      "cell_type": "code",
      "metadata": {
        "id": "KB0xkSTtkSxx"
      },
      "source": [
        "model = Model_1B()\n",
        "device = torch.device(\"cuda\")\n",
        "model = model.to(device)"
      ],
      "execution_count": null,
      "outputs": []
    },
    {
      "cell_type": "code",
      "metadata": {
        "id": "tWhcGo7Z_Bab"
      },
      "source": [
        "criterion = nn.BCELoss()\n",
        "optimizer = optim.Adam(model.parameters(), lr=0.001)\n",
        "length_segments = 100\n",
        "epochs = 12"
      ],
      "execution_count": null,
      "outputs": []
    },
    {
      "cell_type": "code",
      "metadata": {
        "id": "Np2gfOuy_ERI",
        "colab": {
          "base_uri": "https://localhost:8080/"
        },
        "outputId": "63d66808-9ce7-4604-ee35-45a8e789a2d6"
      },
      "source": [
        "train_losses, valid_losses, train_accs, valid_accs = train(1, epochs)"
      ],
      "execution_count": null,
      "outputs": [
        {
          "output_type": "stream",
          "text": [
            "[01] train loss: 0.599644  val loss: 0.477672  train acc: 70.602%  val acc: 81.542%\n",
            "[02] train loss: 0.467635  val loss: 0.401136  train acc: 79.341%  val acc: 84.167%\n",
            "[03] train loss: 0.353258  val loss: 0.343234  train acc: 85.388%  val acc: 85.208%\n",
            "[04] train loss: 0.301988  val loss: 0.216296  train acc: 87.480%  val acc: 91.903%\n",
            "[05] train loss: 0.267260  val loss: 0.228711  train acc: 88.765%  val acc: 90.500%\n",
            "[06] train loss: 0.261486  val loss: 0.209029  train acc: 89.502%  val acc: 92.500%\n",
            "[07] train loss: 0.240561  val loss: 0.336130  train acc: 90.904%  val acc: 86.806%\n",
            "[08] train loss: 0.245377  val loss: 0.272051  train acc: 90.286%  val acc: 88.389%\n",
            "[09] train loss: 0.286304  val loss: 0.229237  train acc: 87.861%  val acc: 91.472%\n",
            "[10] train loss: 0.255060  val loss: 0.225692  train acc: 89.722%  val acc: 92.319%\n",
            "[11] train loss: 0.242943  val loss: 0.247510  train acc: 90.545%  val acc: 89.903%\n",
            "[12] train loss: 0.223025  val loss: 0.147885  train acc: 91.065%  val acc: 94.000%\n"
          ],
          "name": "stdout"
        }
      ]
    },
    {
      "cell_type": "code",
      "metadata": {
        "id": "Ml4tTGdj_FFX",
        "colab": {
          "base_uri": "https://localhost:8080/",
          "height": 295
        },
        "outputId": "852c090c-0013-472a-c584-1d34bb48502a"
      },
      "source": [
        "plot_learning_curves(train_losses, valid_losses, train_accs, valid_accs)"
      ],
      "execution_count": null,
      "outputs": [
        {
          "output_type": "display_data",
          "data": {
            "image/png": "[encoded data removed]",
            "text/plain": [
              "<Figure size 864x288 with 2 Axes>"
            ]
          },
          "metadata": {
            "tags": [],
            "needs_background": "light"
          }
        }
      ]
    },
    {
      "cell_type": "markdown",
      "metadata": {
        "id": "FTjSIewRdFdI"
      },
      "source": [
        "\n",
        "**PREGUNTAS:**\n",
        "- Explique brevemente la diferencia entre una capa LSTM y una BLSTM (bidirectional LSTM).\n",
        "- Incluya el código donde define _Model_1B_ en el informe de la práctica.\n",
        "- ¿Qué modelo obtiene un mejor resultado sobre los datos de validación para las secuencias de 3 segundos? ¿Por qué puede ocurrir esto?\n",
        "- ¿Y para las secuencias de 1 segundo? ¿Por qué?"
      ]
    },
    {
      "cell_type": "markdown",
      "metadata": {
        "id": "Gky1DMv6oZ-m"
      },
      "source": [
        "## 1.5. Modelo \"más profundo\"\n",
        "\n",
        "En este apartado, vamos a partir nuevamente del modelo _Model_1_ y vamos a añadir una segunda capa LSTM tras la primera, con el mismo tamaño y configuración, definiendo un nuevo modelo _Model_2_.\n",
        "\n",
        "Entrénelo con secuencias de longitud 3 segundos como en el modelo original y compare los resultados.\n"
      ]
    },
    {
      "cell_type": "markdown",
      "metadata": {
        "id": "PJwDZq0u_c7A"
      },
      "source": [
        "### Definición del nuevo modelo"
      ]
    },
    {
      "cell_type": "code",
      "metadata": {
        "id": "15G3kCFIdK06"
      },
      "source": [
        "class Model_2(nn.Module):\n",
        "    def __init__(self, feat_dim=20):\n",
        "        super(Model_2, self).__init__()\n",
        "        self.lstm = nn.LSTM(\n",
        "            feat_dim, 256, num_layers=2, \n",
        "            batch_first=True, bidirectional=False)\n",
        "        self.output = nn.Linear(256, 1)\n",
        "\n",
        "    def forward(self, x):\n",
        "        out = self.lstm(x)[0]\n",
        "        out = self.output(out)\n",
        "        out = torch.sigmoid(out)\n",
        "        return out.squeeze(-1)"
      ],
      "execution_count": null,
      "outputs": []
    },
    {
      "cell_type": "code",
      "metadata": {
        "id": "Af68a68j_bX5",
        "colab": {
          "base_uri": "https://localhost:8080/"
        },
        "outputId": "cc2f795b-da36-425f-fd2a-b6093edeb133"
      },
      "source": [
        "model = Model_2()\n",
        "device = torch.device(\"cuda\")\n",
        "model = model.to(device)\n",
        "print(model)"
      ],
      "execution_count": null,
      "outputs": [
        {
          "output_type": "stream",
          "text": [
            "Model_2(\n",
            "  (lstm): LSTM(20, 256, batch_first=True)\n",
            "  (lstm2): LSTM(256, 256, batch_first=True)\n",
            "  (output): Linear(in_features=256, out_features=1, bias=True)\n",
            ")\n"
          ],
          "name": "stdout"
        }
      ]
    },
    {
      "cell_type": "markdown",
      "metadata": {
        "id": "I7iOJoLw_36v"
      },
      "source": [
        "### Entrenar y validar con secuencias de 3 segundos"
      ]
    },
    {
      "cell_type": "code",
      "metadata": {
        "id": "LvHWm597_6YJ"
      },
      "source": [
        "criterion = nn.BCELoss()\n",
        "optimizer = optim.Adam(model.parameters(), lr=0.001)\n",
        "length_segments = 300\n",
        "epochs = 4"
      ],
      "execution_count": null,
      "outputs": []
    },
    {
      "cell_type": "code",
      "metadata": {
        "id": "-K5jawb1_9bn",
        "colab": {
          "base_uri": "https://localhost:8080/"
        },
        "outputId": "8822ed4c-47fe-444f-90a9-8389436169bf"
      },
      "source": [
        "train_losses, valid_losses, train_accs, valid_accs = train(1, epochs)"
      ],
      "execution_count": null,
      "outputs": [
        {
          "output_type": "stream",
          "text": [
            "[01] train loss: 0.569462  val loss: 0.389939  train acc: 73.542%  val acc: 85.199%\n",
            "[02] train loss: 0.368435  val loss: 0.318452  train acc: 85.699%  val acc: 88.208%\n",
            "[03] train loss: 0.327291  val loss: 0.338993  train acc: 87.503%  val acc: 87.815%\n",
            "[04] train loss: 0.290226  val loss: 0.282219  train acc: 89.190%  val acc: 88.852%\n"
          ],
          "name": "stdout"
        }
      ]
    },
    {
      "cell_type": "code",
      "metadata": {
        "id": "PaDGHBJ4__2a",
        "colab": {
          "base_uri": "https://localhost:8080/",
          "height": 295
        },
        "outputId": "fff69998-c93a-4a67-ad58-6d1f41af7b09"
      },
      "source": [
        "plot_learning_curves(train_losses, valid_losses, train_accs, valid_accs)"
      ],
      "execution_count": null,
      "outputs": [
        {
          "output_type": "display_data",
          "data": {
            "image/png": "[encoded data removed]",
            "text/plain": [
              "<Figure size 864x288 with 2 Axes>"
            ]
          },
          "metadata": {
            "tags": [],
            "needs_background": "light"
          }
        }
      ]
    },
    {
      "cell_type": "markdown",
      "metadata": {
        "id": "ERCFmOGudL2C"
      },
      "source": [
        "\n",
        "**PREGUNTAS:**\n",
        "- Incluya el código de la clase _Model_2_ en la memoria.\n",
        "- ¿Qué modelo obtiene un mejor resultado sobre los datos de validación, _Model_1_ o _Model_2_? ¿Por qué puede ocurrir esto?\n",
        "- ¿Y con respecto a _Model_1B_, cuál es mejor?"
      ]
    },
    {
      "cell_type": "markdown",
      "metadata": {
        "id": "Y0JJl2-uvh88"
      },
      "source": [
        "# 2. Convolucional DNN + LSTM\n",
        "\n",
        "En esta última parte de la práctica, vamos a intentar replicar la definición de las arquitecturas CLDNN y Raw waveform CLDNN del artículo:\n",
        "\n",
        "Zazo et al., \"Feature Learning with Raw-Waveform CLDNNs for Voice Activity Detection\", Interspeech 2016.\n",
        "\n",
        "Estas arquitecturas están definidas en las secciones 2.3 y 2.4 del artículo respectivamente, y combinan redes convolucionales con redes recurrentes.\n",
        "\n",
        "La siguiente figura muestra la arquitectura:\n",
        "\n",
        "<img src=\"https://drive.google.com/uc?export=view&id=1ArwSdl2nmD1d8xjefyLvt_XXHJD4aQfX\" width=\"500\">\n",
        "\n"
      ]
    },
    {
      "cell_type": "markdown",
      "metadata": {
        "id": "7dqboG1Ox4x_"
      },
      "source": [
        "El resto de detalles se pueden encontrar en el artículo, así como las referencias del mismo.\n",
        "\n",
        "A continuación, vamos a definir un modelo _Model_CDNN_ que defina la arquitectura CDNN del artículo mencionado, y _Model_CDNN_raw_ con la configuración de la arquitectura _Raw waveform CDNN_.\n",
        "\n",
        "Estas arquitecturas no van a ser utilizadas para realizar un entrenamiento completo de VAD, pero si necesita comprobar la funcionalidad, puede utilizar cualquiera de los ficheros _WAV_ de la práctica anterior o las características MFCC de esta práctica.\n",
        "\n",
        "**PREGUNTAS:**\n",
        "- Incluya el código de las clases _Model_CDNN_ y _Model_CDNN_raw_ en la memoria de la práctica."
      ]
    },
    {
      "cell_type": "markdown",
      "metadata": {
        "id": "5OCFDYc0OCVB"
      },
      "source": [
        "## 2.1 Lectura y preparación de datos"
      ]
    },
    {
      "cell_type": "markdown",
      "metadata": {
        "id": "aZZgKhGZ19IM"
      },
      "source": [
        "### Señal raw"
      ]
    },
    {
      "cell_type": "code",
      "metadata": {
        "id": "2UDH-QoHOB1w"
      },
      "source": [
        "import scipy.io.wavfile\n",
        "\n",
        "def read_recording(wav_file_name): \n",
        "  fs, signal = scipy.io.wavfile.read(wav_file_name)\n",
        "  signal = signal/max(abs(signal)) # normalizes amplitude\n",
        "  \n",
        "  return fs, signal"
      ],
      "execution_count": null,
      "outputs": []
    },
    {
      "cell_type": "code",
      "metadata": {
        "colab": {
          "base_uri": "https://localhost:8080/"
        },
        "id": "UOLs5_7lOJQQ",
        "outputId": "3f1d54d5-daee-4d1c-8fa0-85cfad66de47"
      },
      "source": [
        "%cd \"$DIR\"\n",
        "\n",
        "wav_file = \"audio_sample_test.wav\"\n",
        "fs, signal = read_recording(wav_file) \n",
        "print(\"Signal shape: \" + str(signal.shape))\n",
        "print(\"Sample rate: \" + str(fs))"
      ],
      "execution_count": null,
      "outputs": [
        {
          "output_type": "stream",
          "text": [
            "/content/drive/My Drive/pit\n",
            "Signal shape: (4800160,)\n",
            "Sample rate: 8000\n"
          ],
          "name": "stdout"
        }
      ]
    },
    {
      "cell_type": "code",
      "metadata": {
        "colab": {
          "base_uri": "https://localhost:8080/"
        },
        "id": "r32FZx_w4LDK",
        "outputId": "4d7b16bd-b67c-4765-b945-ea55ca031f53"
      },
      "source": [
        "from keras.utils.np_utils import to_categorical \n",
        "\n",
        "N = 100\n",
        "M = 1000\n",
        "signal_batch = signal[np.newaxis, :M]\n",
        "for i in range(1, N):\n",
        "    signal_batch = np.vstack((signal_batch, signal[np.newaxis, i*M:(i+1)*M]))\n",
        "signal_batch = signal_batch[np.newaxis, :, :]\n",
        "\n",
        "# Set random labels, only to check that the model is correctly built\n",
        "labels_batch = np.random.randint(2, size=N)[np.newaxis, :]\n",
        "labels_batch = to_categorical(labels_batch, num_classes=2)\n",
        "\n",
        "print(\"Signal shape:\", signal_batch.shape)\n",
        "print(\"Labels shape:\", labels_batch.shape)"
      ],
      "execution_count": null,
      "outputs": [
        {
          "output_type": "stream",
          "text": [
            "Signal shape: (1, 100, 1000)\n",
            "Labels shape: (1, 100, 2)\n"
          ],
          "name": "stdout"
        }
      ]
    },
    {
      "cell_type": "markdown",
      "metadata": {
        "id": "GbRugpgp4U_5"
      },
      "source": [
        "### Coeficientes MFCC "
      ]
    },
    {
      "cell_type": "code",
      "metadata": {
        "colab": {
          "base_uri": "https://localhost:8080/"
        },
        "id": "-6T-OJjx4WMA",
        "outputId": "033ac438-e2ee-4e90-f223-43aeba1ca96f"
      },
      "source": [
        "# Test with only one segment\n",
        "rand_idx = {}\n",
        "segment = TRAIN_PATH + train_list[0]\n",
        "length_segments = 300\n",
        "\n",
        "# Set appropriate shape\n",
        "feats_batch = get_feat(segment, rand_idx, n_features=40)\n",
        "labs_batch = get_lab(segment, rand_idx)  \n",
        "labs_batch = to_categorical(labs_batch, num_classes=2)  # one-hot encoding for softmax\n",
        "\n",
        "print(\"MFCC shape:\", feats_batch.shape)\n",
        "print(\"Labels shape:\", labs_batch.shape)"
      ],
      "execution_count": null,
      "outputs": [
        {
          "output_type": "stream",
          "text": [
            "MFCC shape: (1, 300, 40)\n",
            "Labels shape: (1, 300, 2)\n"
          ],
          "name": "stdout"
        }
      ]
    },
    {
      "cell_type": "markdown",
      "metadata": {
        "id": "BsW6CjkSzoc5"
      },
      "source": [
        "## 2.2 Modelo CDNN"
      ]
    },
    {
      "cell_type": "code",
      "metadata": {
        "id": "5JLOlG3TdRCi"
      },
      "source": [
        "class Model_CDNN(nn.Module):\n",
        "    def __init__(self, P=40, freq_conv_filters=32, n_lstm=1, n_cells=32):\n",
        "        super(Model_CDNN, self).__init__()\n",
        "        self.freqConv = nn.Sequential(\n",
        "            # Convolution along the frequency axis (batch_size, 1, seq_length, P)\n",
        "            nn.Conv2d(1, freq_conv_filters, kernel_size=(1, 8)),\n",
        "            nn.MaxPool2d(kernel_size=(1, 3)),  # non-overlapping by default\n",
        "            nn.ReLU(inplace=True)\n",
        "        )\n",
        "        freqConv_output = int((P - 8 + 1)/3)\n",
        "        self.lstm = nn.LSTM(freq_conv_filters*freqConv_output, n_cells, \n",
        "                            batch_first=True, bidirectional=False, \n",
        "                            num_layers=n_lstm)\n",
        "        self.output = nn.Linear(n_cells, 2)\n",
        "\n",
        "    def forward(self, x):\n",
        "        \"\"\"Expected input is (batch_size, seq_length, P)\"\"\"\n",
        "        x_channels = x.unsqueeze(1) # -> (batch_size, 1, seq_length, P)\n",
        "        out = self.freqConv(x_channels)\n",
        "\n",
        "        # Flatten frequency values across all channels\n",
        "        out = out.permute(0, 2, 1, 3)\n",
        "        out = out.reshape(x.shape[0], x.shape[1], -1)\n",
        "\n",
        "        out = self.lstm(out)[0]\n",
        "        out = self.output(out)\n",
        "        out = nn.Softmax(dim=2)(out)\n",
        "        \n",
        "        return out"
      ],
      "execution_count": null,
      "outputs": []
    },
    {
      "cell_type": "code",
      "metadata": {
        "id": "wRDc0TNTC_3K"
      },
      "source": [
        "model = Model_CDNN()\n",
        "device = torch.device(\"cuda\")\n",
        "model = model.to(device)"
      ],
      "execution_count": null,
      "outputs": []
    },
    {
      "cell_type": "markdown",
      "metadata": {
        "id": "N52skNfTDAk2"
      },
      "source": [
        "### Prueba de entrenamiento"
      ]
    },
    {
      "cell_type": "code",
      "metadata": {
        "id": "nv-HefL-C_rX"
      },
      "source": [
        "def train_batch(feats_batch, labs_batch):\n",
        "    model.train()\n",
        "    optimizer.zero_grad()\n",
        "\n",
        "    # Place data into Pytorch tensors\n",
        "    labs_batch = torch.tensor(\n",
        "        labs_batch.astype(\"float32\")).to(device)\n",
        "    feats_batch = torch.tensor(\n",
        "        feats_batch.astype(\"float32\")).to(device)\n",
        "\n",
        "    # Forward the data through the network\n",
        "    predictions = model(feats_batch)\n",
        "\n",
        "    # Compute cost\n",
        "    loss = criterion(predictions, labs_batch)\n",
        "\n",
        "     # Backward step\n",
        "    loss.backward()\n",
        "    optimizer.step()\n",
        "\n",
        "    # Save stats\n",
        "    epoch_loss = loss.item()\n",
        "    epoch_acc = (torch.eq(\n",
        "        torch.argmax(predictions, dim=2), \n",
        "        torch.argmax(labs_batch, dim=2))).float().mean().cpu()\n",
        "\n",
        "    print(f'train loss: {epoch_loss:03f}  '\n",
        "          f'train acc: {epoch_acc*100:.3f}%')\n",
        "    \n",
        "    return epoch_loss, epoch_acc"
      ],
      "execution_count": null,
      "outputs": []
    },
    {
      "cell_type": "code",
      "metadata": {
        "colab": {
          "base_uri": "https://localhost:8080/"
        },
        "id": "4BM6UxMbjNMv",
        "outputId": "61ed69ca-3be9-409e-de7d-77c0c557bc7e"
      },
      "source": [
        "criterion = nn.BCELoss()\n",
        "optimizer = optim.Adam(model.parameters(), lr=0.001)\n",
        "fast_test = False\n",
        "\n",
        "if fast_test:\n",
        "    loss, acc = train_batch(feats_batch, labs_batch)\n",
        "else:\n",
        "    SOFTMAX_ENCODING = True\n",
        "\n",
        "    train_batch_size = 51\n",
        "    train_segments = np.array_split(\n",
        "        train_list, len(train_list)/train_batch_size)\n",
        "    valid_batch_size = 72\n",
        "    valid_segments = np.array_split(\n",
        "        valid_list, len(valid_list)/valid_batch_size)\n",
        "\n",
        "    epochs = 4\n",
        "    length_segments = 300\n",
        "\n",
        "    train_losses, valid_losses, train_accs, valid_accs = \\\n",
        "        train(1, epochs, n_features=40)"
      ],
      "execution_count": null,
      "outputs": [
        {
          "output_type": "stream",
          "text": [
            "[01] train loss: 0.663605  val loss: 0.606006  train acc: 60.116%  val acc: 69.412%\n",
            "[02] train loss: 0.553355  val loss: 0.504591  train acc: 73.720%  val acc: 77.755%\n",
            "[03] train loss: 0.455373  val loss: 0.464813  train acc: 80.658%  val acc: 79.116%\n",
            "[04] train loss: 0.413154  val loss: 0.371218  train acc: 82.105%  val acc: 84.523%\n"
          ],
          "name": "stdout"
        }
      ]
    },
    {
      "cell_type": "markdown",
      "metadata": {
        "id": "8KgHuqROztJ0"
      },
      "source": [
        "## 2.3 Modelo Raw Waveform CDNN"
      ]
    },
    {
      "cell_type": "code",
      "metadata": {
        "id": "q7ghdoRS83qq"
      },
      "source": [
        "class Model_CDNN_raw(Model_CDNN):\n",
        "    def __init__(self, P=40, N=401, freq_conv_filters=16, n_lstm=2, n_cells=16):\n",
        "        super(Model_CDNN_raw, self).__init__(P, freq_conv_filters, n_lstm, n_cells)\n",
        "        # Expected input is (batch_size, 1, n_samples)\n",
        "        self.P = P\n",
        "        self.timeConv = nn.Sequential(\n",
        "            nn.Conv1d(1, P, kernel_size=N),\n",
        "            nn.AdaptiveMaxPool2d(output_size=(None, 1))\n",
        "        )\n",
        "\n",
        "    def forward(self, x):\n",
        "        \"\"\"Expected input is (batch_size, seq_length, n_samples)\"\"\"\n",
        "        out = np.zeros((x.shape[0], x.shape[1], self.P))  \n",
        "        out = x.new_tensor(out)  # (batch_size, seq_length, P)\n",
        "\n",
        "        for i in range(x.shape[1]):\n",
        "            seq = x[:, i, :].unsqueeze(1)  # (batch_size, 1, n_samples)\n",
        "            freq_features = self.timeConv(seq).squeeze(-1)\n",
        "            out[:, i] = torch.log(F.relu(freq_features) + 0.01)\n",
        "        \n",
        "        out = super().forward(out)\n",
        "        \n",
        "        return out"
      ],
      "execution_count": null,
      "outputs": []
    },
    {
      "cell_type": "code",
      "metadata": {
        "colab": {
          "base_uri": "https://localhost:8080/"
        },
        "id": "UGErPl9x9bXD",
        "outputId": "544b554e-08b7-4903-e122-23ff8897c1d8"
      },
      "source": [
        "model = Model_CDNN_raw()\n",
        "device = torch.device(\"cuda\")\n",
        "model = model.to(device)\n",
        "print(model)"
      ],
      "execution_count": null,
      "outputs": [
        {
          "output_type": "stream",
          "text": [
            "Model_CDNN_raw(\n",
            "  (freqConv): Sequential(\n",
            "    (0): Conv2d(1, 16, kernel_size=(1, 8), stride=(1, 1))\n",
            "    (1): MaxPool2d(kernel_size=(1, 3), stride=(1, 3), padding=0, dilation=1, ceil_mode=False)\n",
            "    (2): ReLU(inplace=True)\n",
            "  )\n",
            "  (lstm): LSTM(176, 16, num_layers=2, batch_first=True)\n",
            "  (output): Linear(in_features=16, out_features=2, bias=True)\n",
            "  (timeConv): Sequential(\n",
            "    (0): Conv1d(1, 40, kernel_size=(401,), stride=(1,))\n",
            "    (1): AdaptiveMaxPool2d(output_size=(None, 1))\n",
            "  )\n",
            ")\n"
          ],
          "name": "stdout"
        }
      ]
    },
    {
      "cell_type": "markdown",
      "metadata": {
        "id": "IknV0Tab4Eyl"
      },
      "source": [
        "### Prueba de entrenamiento"
      ]
    },
    {
      "cell_type": "code",
      "metadata": {
        "colab": {
          "base_uri": "https://localhost:8080/"
        },
        "id": "XbmKqKxQDG8f",
        "outputId": "1190c4e6-b916-4d1a-c3d7-7d5218a52d2f"
      },
      "source": [
        "criterion = nn.BCELoss()\n",
        "optimizer = optim.Adam(model.parameters(), lr=0.001)\n",
        "loss, acc = train_batch(signal_batch, labels_batch)"
      ],
      "execution_count": null,
      "outputs": [
        {
          "output_type": "stream",
          "text": [
            "train loss: 0.694333  train acc: 46.000%\n"
          ],
          "name": "stdout"
        }
      ]
    }
  ]
}